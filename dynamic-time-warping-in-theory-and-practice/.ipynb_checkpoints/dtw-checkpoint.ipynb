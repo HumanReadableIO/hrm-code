{
 "cells": [
  {
   "cell_type": "code",
   "execution_count": null,
   "metadata": {},
   "outputs": [],
   "source": [
    "# Read Datasets\n",
    "import pandas as pd\n",
    "\n",
    "temperature = pd.read_csv(\"historical-hourly-weather-data/temperature.csv\")\n",
    "wind = pd.read_csv(\"historical-hourly-weather-data/wind_speed.csv\")\n",
    "description = pd.read_csv(\"historical-hourly-weather-data/weather_description.csv\")\n",
    "cities = pd.read_csv(\"historical-hourly-weather-data/city_attributes.csv\")[\"City\"].tolist()"
   ]
  },
  {
   "cell_type": "code",
   "execution_count": 17,
   "metadata": {},
   "outputs": [
    {
     "name": "stdout",
     "output_type": "stream",
     "text": [
      "Temperature\n",
      "datetime        45253\n",
      "Portland        45253\n",
      "Seattle         45253\n",
      "Los Angeles     45253\n",
      "San Diego       45253\n",
      "Las Vegas       45253\n",
      "Phoenix         45253\n",
      "Albuquerque     45253\n",
      "Denver          45253\n",
      "San Antonio     45253\n",
      "Dallas          45253\n",
      "Houston         45253\n",
      "Kansas City     45253\n",
      "Minneapolis     45253\n",
      "Saint Louis     45253\n",
      "Chicago         45253\n",
      "Nashville       45253\n",
      "Indianapolis    45253\n",
      "Atlanta         45253\n",
      "Detroit         45253\n",
      "Jacksonville    45253\n",
      "Charlotte       45253\n",
      "Pittsburgh      45253\n",
      "Toronto         45253\n",
      "Philadelphia    45253\n",
      "Montreal        45253\n",
      "Boston          45253\n",
      "dtype: int64\n",
      "Wind\n"
     ]
    },
    {
     "ename": "NameError",
     "evalue": "name 'wind' is not defined",
     "output_type": "error",
     "traceback": [
      "\u001b[0;31m---------------------------------------------------------------------------\u001b[0m",
      "\u001b[0;31mNameError\u001b[0m                                 Traceback (most recent call last)",
      "\u001b[0;32m<ipython-input-17-13de485ccf5a>\u001b[0m in \u001b[0;36m<module>\u001b[0;34m\u001b[0m\n\u001b[1;32m      4\u001b[0m \u001b[0mprint\u001b[0m\u001b[0;34m(\u001b[0m\u001b[0mtemperature\u001b[0m\u001b[0;34m.\u001b[0m\u001b[0mcount\u001b[0m\u001b[0;34m(\u001b[0m\u001b[0;34m)\u001b[0m\u001b[0;34m)\u001b[0m\u001b[0;34m\u001b[0m\u001b[0;34m\u001b[0m\u001b[0m\n\u001b[1;32m      5\u001b[0m \u001b[0mprint\u001b[0m\u001b[0;34m(\u001b[0m\u001b[0;34m\"Wind\"\u001b[0m\u001b[0;34m)\u001b[0m\u001b[0;34m\u001b[0m\u001b[0;34m\u001b[0m\u001b[0m\n\u001b[0;32m----> 6\u001b[0;31m \u001b[0mprint\u001b[0m\u001b[0;34m(\u001b[0m\u001b[0mwind\u001b[0m\u001b[0;34m.\u001b[0m\u001b[0mcount\u001b[0m\u001b[0;34m(\u001b[0m\u001b[0;34m)\u001b[0m\u001b[0;34m)\u001b[0m\u001b[0;34m\u001b[0m\u001b[0;34m\u001b[0m\u001b[0m\n\u001b[0m\u001b[1;32m      7\u001b[0m \u001b[0mprint\u001b[0m\u001b[0;34m(\u001b[0m\u001b[0;34m\"Description\"\u001b[0m\u001b[0;34m)\u001b[0m\u001b[0;34m\u001b[0m\u001b[0;34m\u001b[0m\u001b[0m\n\u001b[1;32m      8\u001b[0m \u001b[0mprint\u001b[0m\u001b[0;34m(\u001b[0m\u001b[0mdescription\u001b[0m\u001b[0;34m.\u001b[0m\u001b[0mcount\u001b[0m\u001b[0;34m(\u001b[0m\u001b[0;34m)\u001b[0m\u001b[0;34m)\u001b[0m\u001b[0;34m\u001b[0m\u001b[0;34m\u001b[0m\u001b[0m\n",
      "\u001b[0;31mNameError\u001b[0m: name 'wind' is not defined"
     ]
    }
   ],
   "source": [
    "# Count Values\n",
    "# Just temperature comparison for start, get that working\n",
    "print(\"Temperature\")\n",
    "print(temperature.count())\n",
    "print(\"Wind\")\n",
    "print(wind.count())\n",
    "print(\"Description\")\n",
    "print(description.count())"
   ]
  },
  {
   "cell_type": "code",
   "execution_count": null,
   "metadata": {},
   "outputs": [],
   "source": [
    "# Handle Missing Values\n",
    "drop_cities = [\"Vancouver\", \"San Francisco\", \"Miami\", \"New York\", \"Beersheba\", \"Tel Aviv District\", \"Eilat\", \"Haifa\", \"Nahariyya\", \"Jerusalem\"]\n",
    "temperature = temperature.drop(drop_cities, axis=1).fillna(method=\"bfill\")\n",
    "wind = wind.drop(drop_cities, axis=1).fillna(method=\"bfill\")\n",
    "description = description.drop(drop_cities, axis=1).fillna(method=\"bfill\")\n",
    "cities = [city for city in cities if city not in drop_cities]\n",
    "print(\"Temperature\")\n",
    "print(temperature.count())\n",
    "print(\"Wind\")\n",
    "print(wind.count())\n",
    "print(\"Description\")\n",
    "print(description.count())"
   ]
  },
  {
   "cell_type": "code",
   "execution_count": null,
   "metadata": {},
   "outputs": [],
   "source": [
    "# Functions\n",
    "\n",
    "def delta(df, city_a, city_b, index):\n",
    "    return abs(df[city_a][index] - df[city_b][index])\n",
    "\n",
    "def weight_description(city_a, city_b, index):\n",
    "    if description[city_a][index] == description[city_b][index]:\n",
    "        return 0\n",
    "    return 5\n",
    "\n",
    "def difference(city_a, city_b, index):\n",
    "    d_temperature = delta(temperature, city_a, city_b, index)\n",
    "    d_wind = delta(wind, city_a, city_b, index)\n",
    "    d_description = weight_description(city_a, city_b, index)\n",
    "    return (d_temperature/5) + (d_wind/2) + d_description\n",
    "\n",
    "def dtw_difference(a, b):\n",
    "    d_temperature = abs(a[\"temperature\"] - b[\"temperature\"])\n",
    "    d_wind = abs(a[\"wind\"] - b[\"wind\"])\n",
    "    if a[\"description\"] == b[\"description\"]:\n",
    "        d_description = 0\n",
    "    else:\n",
    "        d_description = 5\n",
    "    return (d_temperature/5) + (d_wind/2) + d_description\n",
    "\n",
    "def compare_linear(city_a, city_b):\n",
    "    diff = 0\n",
    "    for i in range(0, len(temperature[\"datetime\"])):\n",
    "        diff += difference(city_a, city_b, i)\n",
    "    return diff"
   ]
  },
  {
   "cell_type": "code",
   "execution_count": null,
   "metadata": {},
   "outputs": [],
   "source": [
    "# DTW Main\n",
    "import dtw\n",
    "\n",
    "city_pairs = []\n",
    "for i in range(0, len(cities)):\n",
    "    for j in range(i+1, len(cities)):\n",
    "        city_pairs.append([cities[i], cities[j]])\n",
    "\n",
    "# ~15 minutes to run on i9-9980HK\n",
    "#for pair in city_pairs:\n",
    "#    pair.append(compare_linear(pair[0], pair[1]))\n",
    "\n",
    "#print(city_pairs)"
   ]
  },
  {
   "cell_type": "code",
   "execution_count": null,
   "metadata": {},
   "outputs": [],
   "source": [
    "# create dictionary for each city, stored as dictionaries\n",
    "data = {}\n",
    "for city in cities:\n",
    "    data[city] = [{\"temperature\": temperature[city][i], \"wind\": wind[city][i], \"description\": description[city][i]} for i in range(0, len(temperature[city])) if i % 24 == 0]"
   ]
  },
  {
   "cell_type": "code",
   "execution_count": null,
   "metadata": {},
   "outputs": [],
   "source": [
    "from dtw import dtw\n",
    "#for pair in sorted(city_pairs, key=lambda x: x[2]):\n",
    "i = 0.0\n",
    "for pair in city_pairs:\n",
    "    print(pair)\n",
    "    pair.append(dtw(data[pair[0][0:500]], data[pair[1][0:500]], dtw_difference, s=.5))\n",
    "    i += 1.0\n",
    "    print(i / 325.0)\n",
    "print(city_pairs)"
   ]
  },
  {
   "cell_type": "code",
   "execution_count": null,
   "metadata": {},
   "outputs": [],
   "source": [
    "from dtw import dtw\n",
    "dtw(data[\"Portland\"], data[\"Seattle\"], dtw_difference, s=.5)\n",
    "# Can't solve one in 5 minutes, need to use less data. 1,000 in a few seconds, 2,000 is doable as well, 4500 achieved in 1 minute"
   ]
  },
  {
   "cell_type": "code",
   "execution_count": null,
   "metadata": {},
   "outputs": [],
   "source": [
    "for pair in city_pairs:\n",
    "    if len(pair) == 4:\n",
    "        pair = [pair[0], pair[1], pair[3]]"
   ]
  },
  {
   "cell_type": "code",
   "execution_count": null,
   "metadata": {},
   "outputs": [],
   "source": [
    "for pair in sorted(city_pairs, key=lambda x: x[2]):\n",
    "    print(pair[0], pair[1])"
   ]
  },
  {
   "cell_type": "code",
   "execution_count": null,
   "metadata": {},
   "outputs": [],
   "source": [
    "from fastdtw import fastdtw\n",
    "fastdtw(data[\"Portland\"], data[\"Seattle\"], dist=dtw_difference)"
   ]
  },
  {
   "cell_type": "code",
   "execution_count": 20,
   "metadata": {},
   "outputs": [
    {
     "name": "stdout",
     "output_type": "stream",
     "text": [
      "Data Loaded\n",
      "Pairs Made\n",
      "done\n"
     ]
    },
    {
     "ename": "IndexError",
     "evalue": "list index out of range",
     "output_type": "error",
     "traceback": [
      "\u001b[0;31m---------------------------------------------------------------------------\u001b[0m",
      "\u001b[0;31mIndexError\u001b[0m                                Traceback (most recent call last)",
      "\u001b[0;32m<ipython-input-20-f229c97c25a9>\u001b[0m in \u001b[0;36m<module>\u001b[0;34m\u001b[0m\n\u001b[1;32m     31\u001b[0m \u001b[0mprint\u001b[0m\u001b[0;34m(\u001b[0m\u001b[0;34m\"done\"\u001b[0m\u001b[0;34m)\u001b[0m\u001b[0;34m\u001b[0m\u001b[0;34m\u001b[0m\u001b[0m\n\u001b[1;32m     32\u001b[0m \u001b[0;34m\u001b[0m\u001b[0m\n\u001b[0;32m---> 33\u001b[0;31m \u001b[0mprint\u001b[0m\u001b[0;34m(\u001b[0m\u001b[0msorted\u001b[0m\u001b[0;34m(\u001b[0m\u001b[0mcity_pairs\u001b[0m\u001b[0;34m,\u001b[0m \u001b[0mkey\u001b[0m\u001b[0;34m=\u001b[0m\u001b[0;32mlambda\u001b[0m \u001b[0mx\u001b[0m\u001b[0;34m:\u001b[0m \u001b[0mx\u001b[0m\u001b[0;34m[\u001b[0m\u001b[0;36m2\u001b[0m\u001b[0;34m]\u001b[0m\u001b[0;34m)\u001b[0m\u001b[0;34m)\u001b[0m\u001b[0;34m\u001b[0m\u001b[0;34m\u001b[0m\u001b[0m\n\u001b[0m",
      "\u001b[0;32m<ipython-input-20-f229c97c25a9>\u001b[0m in \u001b[0;36m<lambda>\u001b[0;34m(x)\u001b[0m\n\u001b[1;32m     31\u001b[0m \u001b[0mprint\u001b[0m\u001b[0;34m(\u001b[0m\u001b[0;34m\"done\"\u001b[0m\u001b[0;34m)\u001b[0m\u001b[0;34m\u001b[0m\u001b[0;34m\u001b[0m\u001b[0m\n\u001b[1;32m     32\u001b[0m \u001b[0;34m\u001b[0m\u001b[0m\n\u001b[0;32m---> 33\u001b[0;31m \u001b[0mprint\u001b[0m\u001b[0;34m(\u001b[0m\u001b[0msorted\u001b[0m\u001b[0;34m(\u001b[0m\u001b[0mcity_pairs\u001b[0m\u001b[0;34m,\u001b[0m \u001b[0mkey\u001b[0m\u001b[0;34m=\u001b[0m\u001b[0;32mlambda\u001b[0m \u001b[0mx\u001b[0m\u001b[0;34m:\u001b[0m \u001b[0mx\u001b[0m\u001b[0;34m[\u001b[0m\u001b[0;36m2\u001b[0m\u001b[0;34m]\u001b[0m\u001b[0;34m)\u001b[0m\u001b[0;34m)\u001b[0m\u001b[0;34m\u001b[0m\u001b[0;34m\u001b[0m\u001b[0m\n\u001b[0m",
      "\u001b[0;31mIndexError\u001b[0m: list index out of range"
     ]
    }
   ],
   "source": [
    "from dtw import dtw, accelerated_dtw\n",
    "from fastdtw import fastdtw\n",
    "import pandas as pd\n",
    "\n",
    "temperature = pd.read_csv(\"historical-hourly-weather-data/temperature.csv\")\n",
    "cities = pd.read_csv(\"historical-hourly-weather-data/city_attributes.csv\")[\"City\"].tolist()\n",
    "drop_cities = [\"Vancouver\", \"San Francisco\", \"Miami\", \"New York\", \"Beersheba\", \"Tel Aviv District\", \"Eilat\", \"Haifa\", \"Nahariyya\", \"Jerusalem\"]\n",
    "temperature = temperature.drop(drop_cities, axis=1).fillna(method=\"bfill\")\n",
    "cities = [city for city in cities if city not in drop_cities]\n",
    "\n",
    "print(\"Data Loaded\")\n",
    "\n",
    "def compare_linear(city_a, city_b):\n",
    "    diff = 0\n",
    "    for i in range(0, len(temperature[\"datetime\"])):\n",
    "        diff += abs(city_a[i] - city_b[i])\n",
    "    return diff\n",
    "\n",
    "city_pairs = []\n",
    "for i in range(0, len(cities)):\n",
    "    for j in range(i+1, len(cities)):\n",
    "        city_pairs.append([cities[i], cities[j]])\n",
    "\n",
    "print(\"Pairs Made\")\n",
    "\n",
    "\n",
    "#for pair in city_pairs:\n",
    "#    pair.append(compare_linear(temperature[pair[0]], temperature[pair[1]]))\n",
    "#    print(pair)\n",
    "\n",
    "print(\"done\")\n",
    "    \n",
    "print(sorted(city_pairs, key=lambda x: x[2]))"
   ]
  },
  {
   "cell_type": "code",
   "execution_count": 15,
   "metadata": {},
   "outputs": [
    {
     "data": {
      "text/plain": [
       "74011.91890429732"
      ]
     },
     "execution_count": 15,
     "metadata": {},
     "output_type": "execute_result"
    }
   ],
   "source": [
    "compare_linear(temperature[\"Seattle\"], temperature[\"Portland\"])"
   ]
  },
  {
   "cell_type": "code",
   "execution_count": 6,
   "metadata": {},
   "outputs": [
    {
     "ename": "KeyboardInterrupt",
     "evalue": "",
     "output_type": "error",
     "traceback": [
      "\u001b[0;31m---------------------------------------------------------------------------\u001b[0m",
      "\u001b[0;31mKeyboardInterrupt\u001b[0m                         Traceback (most recent call last)",
      "\u001b[0;32m<ipython-input-6-7a547fdb5495>\u001b[0m in \u001b[0;36m<module>\u001b[0;34m\u001b[0m\n\u001b[0;32m----> 1\u001b[0;31m \u001b[0mdtw\u001b[0m\u001b[0;34m(\u001b[0m\u001b[0mtemperature\u001b[0m\u001b[0;34m[\u001b[0m\u001b[0;34m\"Seattle\"\u001b[0m\u001b[0;34m]\u001b[0m\u001b[0;34m,\u001b[0m \u001b[0mtemperature\u001b[0m\u001b[0;34m[\u001b[0m\u001b[0;34m\"Portland\"\u001b[0m\u001b[0;34m]\u001b[0m\u001b[0;34m,\u001b[0m \u001b[0mdist\u001b[0m\u001b[0;34m=\u001b[0m\u001b[0;32mlambda\u001b[0m \u001b[0mx\u001b[0m\u001b[0;34m,\u001b[0m \u001b[0my\u001b[0m\u001b[0;34m:\u001b[0m \u001b[0mabs\u001b[0m\u001b[0;34m(\u001b[0m\u001b[0mx\u001b[0m \u001b[0;34m-\u001b[0m \u001b[0my\u001b[0m\u001b[0;34m)\u001b[0m\u001b[0;34m)\u001b[0m\u001b[0;34m\u001b[0m\u001b[0;34m\u001b[0m\u001b[0m\n\u001b[0m",
      "\u001b[0;32m~/.pyenv/versions/3.7.5/lib/python3.7/site-packages/dtw/dtw.py\u001b[0m in \u001b[0;36mdtw\u001b[0;34m(x, y, dist, warp, w, s)\u001b[0m\n\u001b[1;32m     34\u001b[0m         \u001b[0;32mfor\u001b[0m \u001b[0mj\u001b[0m \u001b[0;32min\u001b[0m \u001b[0mrange\u001b[0m\u001b[0;34m(\u001b[0m\u001b[0mc\u001b[0m\u001b[0;34m)\u001b[0m\u001b[0;34m:\u001b[0m\u001b[0;34m\u001b[0m\u001b[0;34m\u001b[0m\u001b[0m\n\u001b[1;32m     35\u001b[0m             \u001b[0;32mif\u001b[0m \u001b[0;34m(\u001b[0m\u001b[0misinf\u001b[0m\u001b[0;34m(\u001b[0m\u001b[0mw\u001b[0m\u001b[0;34m)\u001b[0m \u001b[0;32mor\u001b[0m \u001b[0;34m(\u001b[0m\u001b[0mmax\u001b[0m\u001b[0;34m(\u001b[0m\u001b[0;36m0\u001b[0m\u001b[0;34m,\u001b[0m \u001b[0mi\u001b[0m \u001b[0;34m-\u001b[0m \u001b[0mw\u001b[0m\u001b[0;34m)\u001b[0m \u001b[0;34m<=\u001b[0m \u001b[0mj\u001b[0m \u001b[0;34m<=\u001b[0m \u001b[0mmin\u001b[0m\u001b[0;34m(\u001b[0m\u001b[0mc\u001b[0m\u001b[0;34m,\u001b[0m \u001b[0mi\u001b[0m \u001b[0;34m+\u001b[0m \u001b[0mw\u001b[0m\u001b[0;34m)\u001b[0m\u001b[0;34m)\u001b[0m\u001b[0;34m)\u001b[0m\u001b[0;34m:\u001b[0m\u001b[0;34m\u001b[0m\u001b[0;34m\u001b[0m\u001b[0m\n\u001b[0;32m---> 36\u001b[0;31m                 \u001b[0mD1\u001b[0m\u001b[0;34m[\u001b[0m\u001b[0mi\u001b[0m\u001b[0;34m,\u001b[0m \u001b[0mj\u001b[0m\u001b[0;34m]\u001b[0m \u001b[0;34m=\u001b[0m \u001b[0mdist\u001b[0m\u001b[0;34m(\u001b[0m\u001b[0mx\u001b[0m\u001b[0;34m[\u001b[0m\u001b[0mi\u001b[0m\u001b[0;34m]\u001b[0m\u001b[0;34m,\u001b[0m \u001b[0my\u001b[0m\u001b[0;34m[\u001b[0m\u001b[0mj\u001b[0m\u001b[0;34m]\u001b[0m\u001b[0;34m)\u001b[0m\u001b[0;34m\u001b[0m\u001b[0;34m\u001b[0m\u001b[0m\n\u001b[0m\u001b[1;32m     37\u001b[0m     \u001b[0mC\u001b[0m \u001b[0;34m=\u001b[0m \u001b[0mD1\u001b[0m\u001b[0;34m.\u001b[0m\u001b[0mcopy\u001b[0m\u001b[0;34m(\u001b[0m\u001b[0;34m)\u001b[0m\u001b[0;34m\u001b[0m\u001b[0;34m\u001b[0m\u001b[0m\n\u001b[1;32m     38\u001b[0m     \u001b[0mjrange\u001b[0m \u001b[0;34m=\u001b[0m \u001b[0mrange\u001b[0m\u001b[0;34m(\u001b[0m\u001b[0mc\u001b[0m\u001b[0;34m)\u001b[0m\u001b[0;34m\u001b[0m\u001b[0;34m\u001b[0m\u001b[0m\n",
      "\u001b[0;32m~/.pyenv/versions/3.7.5/lib/python3.7/site-packages/pandas/core/series.py\u001b[0m in \u001b[0;36m__getitem__\u001b[0;34m(self, key)\u001b[0m\n\u001b[1;32m   1069\u001b[0m         \u001b[0mkey\u001b[0m \u001b[0;34m=\u001b[0m \u001b[0mcom\u001b[0m\u001b[0;34m.\u001b[0m\u001b[0mapply_if_callable\u001b[0m\u001b[0;34m(\u001b[0m\u001b[0mkey\u001b[0m\u001b[0;34m,\u001b[0m \u001b[0mself\u001b[0m\u001b[0;34m)\u001b[0m\u001b[0;34m\u001b[0m\u001b[0;34m\u001b[0m\u001b[0m\n\u001b[1;32m   1070\u001b[0m         \u001b[0;32mtry\u001b[0m\u001b[0;34m:\u001b[0m\u001b[0;34m\u001b[0m\u001b[0;34m\u001b[0m\u001b[0m\n\u001b[0;32m-> 1071\u001b[0;31m             \u001b[0mresult\u001b[0m \u001b[0;34m=\u001b[0m \u001b[0mself\u001b[0m\u001b[0;34m.\u001b[0m\u001b[0mindex\u001b[0m\u001b[0;34m.\u001b[0m\u001b[0mget_value\u001b[0m\u001b[0;34m(\u001b[0m\u001b[0mself\u001b[0m\u001b[0;34m,\u001b[0m \u001b[0mkey\u001b[0m\u001b[0;34m)\u001b[0m\u001b[0;34m\u001b[0m\u001b[0;34m\u001b[0m\u001b[0m\n\u001b[0m\u001b[1;32m   1072\u001b[0m \u001b[0;34m\u001b[0m\u001b[0m\n\u001b[1;32m   1073\u001b[0m             \u001b[0;32mif\u001b[0m \u001b[0;32mnot\u001b[0m \u001b[0mis_scalar\u001b[0m\u001b[0;34m(\u001b[0m\u001b[0mresult\u001b[0m\u001b[0;34m)\u001b[0m\u001b[0;34m:\u001b[0m\u001b[0;34m\u001b[0m\u001b[0;34m\u001b[0m\u001b[0m\n",
      "\u001b[0;32m~/.pyenv/versions/3.7.5/lib/python3.7/site-packages/pandas/core/indexes/base.py\u001b[0m in \u001b[0;36mget_value\u001b[0;34m(self, series, key)\u001b[0m\n\u001b[1;32m   4724\u001b[0m \u001b[0;34m\u001b[0m\u001b[0m\n\u001b[1;32m   4725\u001b[0m         \u001b[0ms\u001b[0m \u001b[0;34m=\u001b[0m \u001b[0mcom\u001b[0m\u001b[0;34m.\u001b[0m\u001b[0mvalues_from_object\u001b[0m\u001b[0;34m(\u001b[0m\u001b[0mseries\u001b[0m\u001b[0;34m)\u001b[0m\u001b[0;34m\u001b[0m\u001b[0;34m\u001b[0m\u001b[0m\n\u001b[0;32m-> 4726\u001b[0;31m         \u001b[0mk\u001b[0m \u001b[0;34m=\u001b[0m \u001b[0mcom\u001b[0m\u001b[0;34m.\u001b[0m\u001b[0mvalues_from_object\u001b[0m\u001b[0;34m(\u001b[0m\u001b[0mkey\u001b[0m\u001b[0;34m)\u001b[0m\u001b[0;34m\u001b[0m\u001b[0;34m\u001b[0m\u001b[0m\n\u001b[0m\u001b[1;32m   4727\u001b[0m \u001b[0;34m\u001b[0m\u001b[0m\n\u001b[1;32m   4728\u001b[0m         \u001b[0mk\u001b[0m \u001b[0;34m=\u001b[0m \u001b[0mself\u001b[0m\u001b[0;34m.\u001b[0m\u001b[0m_convert_scalar_indexer\u001b[0m\u001b[0;34m(\u001b[0m\u001b[0mk\u001b[0m\u001b[0;34m,\u001b[0m \u001b[0mkind\u001b[0m\u001b[0;34m=\u001b[0m\u001b[0;34m\"getitem\"\u001b[0m\u001b[0;34m)\u001b[0m\u001b[0;34m\u001b[0m\u001b[0;34m\u001b[0m\u001b[0m\n",
      "\u001b[0;31mKeyboardInterrupt\u001b[0m: "
     ]
    }
   ],
   "source": [
    "dtw(temperature[\"Seattle\"], temperature[\"Portland\"], dist=lambda x, y: abs(x - y))"
   ]
  },
  {
   "cell_type": "code",
   "execution_count": 24,
   "metadata": {},
   "outputs": [
    {
     "data": {
      "text/plain": [
       "(1459.4622751079855,\n",
       " array([[0.28      , 0.28      , 0.28325197, ..., 7.48      , 7.24      ,\n",
       "         7.36      ],\n",
       "        [0.28      , 0.28      , 0.28325197, ..., 7.48      , 7.24      ,\n",
       "         7.36      ],\n",
       "        [0.28278337, 0.28278337, 0.28603534, ..., 7.47721663, 7.23721663,\n",
       "         7.35721663],\n",
       "        ...,\n",
       "        [7.62      , 7.62      , 7.62325197, ..., 0.14      , 0.1       ,\n",
       "         0.02      ],\n",
       "        [7.29      , 7.29      , 7.29325197, ..., 0.47      , 0.23      ,\n",
       "         0.35      ],\n",
       "        [7.27      , 7.27      , 7.27325197, ..., 0.49      , 0.25      ,\n",
       "         0.37      ]]),\n",
       " array([[2.80000000e-01, 5.60000000e-01, 8.43251974e-01, ...,\n",
       "         6.67196882e+03, 6.67920882e+03, 6.68656882e+03],\n",
       "        [5.60000000e-01, 5.60000000e-01, 8.43251974e-01, ...,\n",
       "         6.67196882e+03, 6.67920882e+03, 6.68656882e+03],\n",
       "        [8.42783368e-01, 8.42783368e-01, 8.46035342e-01, ...,\n",
       "         6.67059383e+03, 6.67783105e+03, 6.68518827e+03],\n",
       "        ...,\n",
       "        [6.12438479e+03, 6.12438479e+03, 6.12438804e+03, ...,\n",
       "         1.45890228e+03, 1.45886228e+03, 1.45888228e+03],\n",
       "        [6.13167479e+03, 6.13167479e+03, 6.13167804e+03, ...,\n",
       "         1.45937228e+03, 1.45909228e+03, 1.45921228e+03],\n",
       "        [6.13894479e+03, 6.13894479e+03, 6.13894804e+03, ...,\n",
       "         1.45982228e+03, 1.45934228e+03, 1.45946228e+03]]),\n",
       " (array([   0,    1,    2, ..., 1897, 1898, 1899]),\n",
       "  array([   0,    1,    2, ..., 1898, 1898, 1899])))"
      ]
     },
     "execution_count": 24,
     "metadata": {},
     "output_type": "execute_result"
    }
   ],
   "source": [
    "accelerated_dtw(temperature[\"Seattle\"][:1900].values, temperature[\"Portland\"][:1900].values, dist=\"euclidean\")"
   ]
  },
  {
   "cell_type": "code",
   "execution_count": null,
   "metadata": {},
   "outputs": [],
   "source": [
    "fastdtw(temperature[\"Seattle\"], temperature[\"Portland\"], radius=1)"
   ]
  },
  {
   "cell_type": "code",
   "execution_count": 19,
   "metadata": {},
   "outputs": [
    {
     "data": {
      "text/plain": [
       "15.276811482111684"
      ]
     },
     "execution_count": 19,
     "metadata": {},
     "output_type": "execute_result"
    }
   ],
   "source": [
    "691321.55 / 45253"
   ]
  },
  {
   "cell_type": "code",
   "execution_count": 65,
   "metadata": {},
   "outputs": [
    {
     "name": "stdout",
     "output_type": "stream",
     "text": [
      "Point-by-point 7\n",
      "5.0\n",
      "[[ 0.  3.  6. 13. 16.]\n",
      " [ 1.  2.  4. 10. 12.]\n",
      " [ 8.  5.  6.  4.  8.]\n",
      " [15.  9.  9.  4.  8.]\n",
      " [17. 10. 10.  9.  5.]]\n",
      "5\n",
      "[0, 3, 6, 13, 16]\n",
      "[1, 2, 4, 10, 12]\n",
      "[8, 5, 6, 4, 8]\n",
      "[15, 9, 9, 4, 8]\n",
      "[17, 10, 10, 9, 5]\n"
     ]
    },
    {
     "data": {
      "image/png": "[encoded data removed]",
      "text/plain": [
       "<Figure size 432x288 with 1 Axes>"
      ]
     },
     "metadata": {
      "needs_background": "light"
     },
     "output_type": "display_data"
    },
    {
     "name": "stdout",
     "output_type": "stream",
     "text": [
      "Passed\n"
     ]
    }
   ],
   "source": [
    "from dtw import dtw\n",
    "\n",
    "def simple_dtw(series_a, series_b, dist=lambda x, y: abs(x - y), warp_weight=1):\n",
    "    # DTW requires equal-length lists\n",
    "    if len(series_a) != len(series_b):\n",
    "        raise IndexError(\"Lists must be of equal length\")\n",
    "    if warp_weight <= 0:\n",
    "        raise ValueError(\"Warp weight must be positive\")\n",
    "    # Initialize Accumulated Cost Matrix\n",
    "    distances = [[0 for _ in range(len(series_a))] for _ in range(len(series_b))]\n",
    "    # Initialize first cell\n",
    "    distances[0][0] = dist(series_a[0], series_b[0])\n",
    "    # Initialize first column\n",
    "    for i in range(1, len(series_b)):\n",
    "        distances[i][0] = distances[i-1][0] * warp_weight + dist(series_a[i], series_b[0])\n",
    "    # Initialize first row\n",
    "    for j in range(1, len(series_a)):\n",
    "        distances[0][j] = distances[0][j-1] * warp_weight + dist(series_a[0], series_b[j])\n",
    "    # Construct the Accumulated Cost Matrix\n",
    "    for i in range(1, len(series_a)):\n",
    "        for j in range(1, len(series_b)):\n",
    "            distances[i][j] = min(distances[i-1][j-1], distances[i-1][j] * warp_weight, distances[i][j-1] * warp_weight) + dist(series_a[i], series_b[j])\n",
    "    return distances[-1][-1], distances\n",
    "    \n",
    "\n",
    "def compare_linear(series_a, series_b, dist=lambda x, y: abs(x - y)):\n",
    "    # Linear comparison requires equal-length lists\n",
    "    if len(series_a) != len(series_b):\n",
    "        raise IndexError(\"Lists must be of equal length\")\n",
    "    diff = 0\n",
    "    for i in range(0, len(series_a)):\n",
    "        diff += dist(series_a[i], series_b[i])\n",
    "    return diff\n",
    "\n",
    "x = [1, 2, 8, 8, 3]\n",
    "y = [1, 4, 4, 8, 4]\n",
    "\n",
    "d, cost_matrix, acc_cost_matrix, path = dtw(x, y, dist=lambda x, y: abs(x - y))\n",
    "\n",
    "s_d, s_acc_cost_matrix = simple_dtw(x, y, dist=lambda x, y: abs(x - y))\n",
    "\n",
    "\n",
    "print(\"Point-by-point\", compare_linear(x, y))\n",
    "print(d)\n",
    "print(acc_cost_matrix)\n",
    "print(s_d)\n",
    "for s in s_acc_cost_matrix:\n",
    "    print(s)\n",
    "\n",
    "import matplotlib.pyplot as plt\n",
    "\n",
    "plt.imshow(acc_cost_matrix.T, origin='lower', cmap='gray', interpolation='nearest')\n",
    "plt.plot(path[0], path[1], 'w')\n",
    "plt.show()\n",
    "\n",
    "import random\n",
    "\n",
    "for _ in range(100):\n",
    "    x = []\n",
    "    y = []\n",
    "    for _ in range(10):\n",
    "        x.append(random.randint(0, 10))\n",
    "        y.append(random.randint(0, 10))\n",
    "    d, cost_matrix, acc_cost_matrix, path = dtw(x, y, dist=lambda x, y: abs(x - y), s=2)\n",
    "    s_d, s_acc_cost_matrix = simple_dtw(x, y, dist=lambda x, y: abs(x - y), warp_weight=2)\n",
    "    assert(d == s_d)\n",
    "\n",
    "print(\"Passed\")\n"
   ]
  },
  {
   "cell_type": "code",
   "execution_count": null,
   "metadata": {},
   "outputs": [],
   "source": []
  }
 ],
 "metadata": {
  "kernelspec": {
   "display_name": "Python 3",
   "language": "python",
   "name": "python3"
  },
  "language_info": {
   "codemirror_mode": {
    "name": "ipython",
    "version": 3
   },
   "file_extension": ".py",
   "mimetype": "text/x-python",
   "name": "python",
   "nbconvert_exporter": "python",
   "pygments_lexer": "ipython3",
   "version": "3.7.5"
  }
 },
 "nbformat": 4,
 "nbformat_minor": 2
}
